{
 "cells": [
  {
   "cell_type": "markdown",
   "metadata": {},
   "source": [
    "## DECORATORS"
   ]
  },
  {
   "cell_type": "code",
   "execution_count": 5,
   "metadata": {},
   "outputs": [
    {
     "name": "stdout",
     "output_type": "stream",
     "text": [
      "hello, here is dec_1\n",
      "hello, here is inner_1\n",
      "hello, here is func\n"
     ]
    }
   ],
   "source": [
    "'''\n",
    "it allows programmers to modify the behavior of function or class. \n",
    "Decorators allow us to wrap another function in order to extend the \n",
    "behavior of wrapped function, without permanently modifying it.\n",
    "\n",
    "In Decorators, functions are taken as the argument into another \n",
    "function and then called inside the wrapper function.\n",
    "'''\n",
    "\n",
    "'''\n",
    "In the above code, decorator_1 is a callable function, will add some code \n",
    "on the top of some another callable function (func), and return the wrapper function.\n",
    "'''\n",
    "def decorator_1(func):\n",
    "    print(\"hello, here is dec_1\")\n",
    "    def inner_1():\n",
    "        print(\"hello, here is inner_1\")\n",
    "        func()\n",
    "    return inner_1\n",
    "\n",
    "@decorator_1\n",
    "def func():\n",
    "    print(\"hello, here is func\")\n",
    "    \n",
    "func()"
   ]
  },
  {
   "cell_type": "code",
   "execution_count": 6,
   "metadata": {},
   "outputs": [
    {
     "name": "stdout",
     "output_type": "stream",
     "text": [
      "3628800\n",
      "Total time taken in :  factorial 2.0015180110931396\n"
     ]
    }
   ],
   "source": [
    "\n",
    "# importing libraries \n",
    "import time \n",
    "import math \n",
    "  \n",
    "# decorator to calculate duration \n",
    "# taken by any function. \n",
    "def calculate_time(func): \n",
    "      \n",
    "    # added arguments inside the inner1, \n",
    "    # if function takes any arguments, \n",
    "    # can be added like this. \n",
    "    def inner1(*args, **kwargs): \n",
    "  \n",
    "        # storing time before function execution \n",
    "        begin = time.time() \n",
    "          \n",
    "        func(*args, **kwargs) \n",
    "  \n",
    "        # storing time after function execution \n",
    "        end = time.time() \n",
    "        print(\"Total time taken in : \", func.__name__, end - begin) \n",
    "  \n",
    "    return inner1 \n",
    "  \n",
    "  \n",
    "  \n",
    "# this can be added to any function present, \n",
    "# in this case to calculate a factorial \n",
    "@calculate_time\n",
    "def factorial(num): \n",
    "  \n",
    "    # sleep 2 seconds because it takes very less time \n",
    "    # so that you can see the actual difference \n",
    "    time.sleep(2) \n",
    "    print(math.factorial(num)) \n",
    "  \n",
    "# calling the function. \n",
    "factorial(10) "
   ]
  },
  {
   "cell_type": "code",
   "execution_count": 48,
   "metadata": {},
   "outputs": [
    {
     "name": "stdout",
     "output_type": "stream",
     "text": [
      "---------- DECOR 2 ----------\n",
      "---------- DECOR 1 ----------\n",
      "\n",
      "\n",
      "******************************\n",
      "%%%%%%%%%%%%%%%%%%%%%%%%%%%%%%\n",
      "     hello, here is func\n",
      "%%%%%%%%%%%%%%%%%%%%%%%%%%%%%%\n",
      "******************************\n",
      "None\n"
     ]
    }
   ],
   "source": [
    "def dec_1(func):\n",
    "    print(\"-\"*10, \"DECOR 1\", \"-\"*10)\n",
    "    def inner_1():\n",
    "        print(\"*\"*30)\n",
    "        func()\n",
    "        print(\"*\"*30)\n",
    "    return inner_1\n",
    "\n",
    "def dec_2(func):\n",
    "    print(\"-\"*10, \"DECOR 2\", \"-\"*10)\n",
    "    def inner_2():\n",
    "        print(\"%\"*30)\n",
    "        func()\n",
    "        print(\"%\"*30)\n",
    "    return inner_2\n",
    "\n",
    "#@dec_1\n",
    "#@dec_2\n",
    "def func():\n",
    "    print(\"     hello, here is func\")\n",
    "\n",
    "tmp = dec_1(dec_2(func))\n",
    "print(\"\\n\")\n",
    "print(tmp())"
   ]
  },
  {
   "cell_type": "code",
   "execution_count": null,
   "metadata": {},
   "outputs": [],
   "source": [
    "'''\n",
    "| - dec_2\n",
    "| | -- dec_1\n",
    "| | | --- inner_1\n",
    "| | | | ---- inner_2\n",
    "| | | | | ------- func\n",
    "| | | | ---- inner_2\n",
    "| | | --- inner_1\n",
    "| |  -- dec_1\n",
    "| - dec_2\n",
    "'''\n",
    "\n",
    "'''\n",
    "the real decoration is applied by the inners functions\n",
    "of the decs: so, in this case dec_2.inner_2 applied \n",
    "decoration and than dec_1 take what is decorated and \n",
    "applied it's decoration throught dec_1.inner_1\n",
    "'''"
   ]
  },
  {
   "cell_type": "code",
   "execution_count": 36,
   "metadata": {},
   "outputs": [
    {
     "name": "stdout",
     "output_type": "stream",
     "text": [
      "percent\n",
      "star\n",
      "******************************\n",
      "%%%%%%%%%%%%%%%%%%%%%%%%%%%%%%\n",
      "Hello!\n",
      "%%%%%%%%%%%%%%%%%%%%%%%%%%%%%%\n",
      "******************************\n"
     ]
    }
   ],
   "source": [
    "def star(func):\n",
    "    print(\"star\")\n",
    "    def inner(*args, **kwargs):\n",
    "        print(\"*\" * 30)\n",
    "        func(*args, **kwargs)\n",
    "        print(\"*\" * 30)\n",
    "    return inner\n",
    "\n",
    "def percent(func):\n",
    "    print(\"percent\")\n",
    "    def inner(*args, **kwargs):\n",
    "        print(\"%\" * 30)\n",
    "        func(*args, **kwargs)\n",
    "        print(\"%\" * 30)\n",
    "    return inner\n",
    "\n",
    "@star\n",
    "@percent\n",
    "def printer(msg):\n",
    "    print(msg);\n",
    "\n",
    "printer(\"Hello!\");"
   ]
  },
  {
   "cell_type": "code",
   "execution_count": 79,
   "metadata": {},
   "outputs": [
    {
     "name": "stdout",
     "output_type": "stream",
     "text": [
      "---------- DECOR 2 ----------\n",
      "---------- DECOR 1 ----------\n",
      "---------- DECOR 2 ----------\n",
      "---------- DECOR 1 ----------\n",
      "---------- DECOR 2 ----------\n",
      "---------- DECOR 1 ----------\n",
      "\n",
      "\n",
      "******************************\n",
      "%%%%%%%%%%%%%%%%%%%%%%%%%%%%%%\n",
      "     hello, here is func: 3\n",
      "%%%%%%%%%%%%%%%%%%%%%%%%%%%%%%\n",
      "******************************\n",
      "None\n",
      "******************************\n",
      "%%%%%%%%%%%%%%%%%%%%%%%%%%%%%%\n",
      "     hello, here is func: 1 and 2\n",
      "%%%%%%%%%%%%%%%%%%%%%%%%%%%%%%\n",
      "******************************\n",
      "None\n",
      "******************************\n",
      "%%%%%%%%%%%%%%%%%%%%%%%%%%%%%%\n",
      "{'vic': 1, 'pietro': 2}\n",
      "%%%%%%%%%%%%%%%%%%%%%%%%%%%%%%\n",
      "******************************\n",
      "None\n"
     ]
    }
   ],
   "source": [
    "def dec_1(func):\n",
    "    print(\"-\"*10, \"DECOR 1\", \"-\"*10)\n",
    "    def inner_1(*args, **kwargs):\n",
    "        print(\"*\"*30)\n",
    "        func(*args, **kwargs)\n",
    "        print(\"*\"*30)\n",
    "    return inner_1\n",
    "\n",
    "def dec_2(func):\n",
    "    print(\"-\"*10, \"DECOR 2\", \"-\"*10)\n",
    "    def inner_2(*args, **kwargs):\n",
    "        print(\"%\"*30)\n",
    "        func(*args, **kwargs)\n",
    "        print(\"%\"*30)\n",
    "    return inner_2\n",
    "\n",
    "def func_1(a):\n",
    "    print(\"     hello, here is func:\", a)\n",
    "\n",
    "def func_2(a, b):\n",
    "    print(\"     hello, here is func:\", a, \"and\", b)\n",
    "    \n",
    "def func_3(**kwargs):\n",
    "    for i in [kwargs]:\n",
    "        print(i)\n",
    "\n",
    "tmp_1 = dec_1(dec_2(func_1))\n",
    "tmp_2 = dec_1(dec_2(func_2))\n",
    "tmp_3 = dec_1(dec_2(func_3))\n",
    "\n",
    "print(\"\\n\")\n",
    "\n",
    "print(tmp_1(3))\n",
    "print(tmp_2(*[1, 2]))\n",
    "print(tmp_3(**{\"vic\" : 1, \"pietro\" : 2}))"
   ]
  },
  {
   "cell_type": "code",
   "execution_count": 49,
   "metadata": {},
   "outputs": [
    {
     "name": "stdout",
     "output_type": "stream",
     "text": [
      "(1,)\n"
     ]
    }
   ],
   "source": [
    "'''\n",
    "if we want pass an arg to func we have to remember that \n",
    "it has 2 decorations that encapsulate him, so we have to\n",
    "pass the args through the decs\n",
    "'''\n",
    "\n",
    "'''\n",
    "*args = get element by positional, so if we pass [1, 2] to the func\n",
    "        it will consider separately 1 and 2\n",
    "\n",
    "**kwargs = get key-value by positional, so if we pass\n",
    "           {\"vic\": 1, \"pietro\" : 2} it will consider separately\n",
    "           \"vic\": 1 and \"pietro\" : 2\n",
    "'''"
   ]
  },
  {
   "cell_type": "markdown",
   "metadata": {},
   "source": [
    "## PROPERTY"
   ]
  },
  {
   "cell_type": "code",
   "execution_count": 102,
   "metadata": {},
   "outputs": [
    {
     "name": "stdout",
     "output_type": "stream",
     "text": [
      "1 2\n"
     ]
    }
   ],
   "source": [
    "class Point():\n",
    "    def __init__(self, x, y):\n",
    "        self._x = x\n",
    "        self._y = y\n",
    "\n",
    "    @property\n",
    "    def x(self):\n",
    "        return self._x\n",
    "    \n",
    "    @property\n",
    "    def y(self):\n",
    "        return self._y\n",
    "    \n",
    "    @x.setter\n",
    "    def x(self, new_x):\n",
    "        if(self._x < new_x):\n",
    "            self._x = new_x\n",
    "    \n",
    "def use_point(a):\n",
    "    a.x = 0\n",
    "    \n",
    "p_0 = Point(1, 2)\n",
    "use_point(p_0) # ERROR: cannot modify x if you have just @property\n",
    "print(p_0.x, p_0.y)"
   ]
  },
  {
   "cell_type": "markdown",
   "metadata": {},
   "source": [
    "## ERROR HANDLING"
   ]
  },
  {
   "cell_type": "code",
   "execution_count": 108,
   "metadata": {},
   "outputs": [
    {
     "name": "stdout",
     "output_type": "stream",
     "text": [
      "x is negative\n"
     ]
    }
   ],
   "source": [
    "x = -1\n",
    "try:\n",
    "    assert x>=0, 'x is negative'\n",
    "except AssertionError as err: \n",
    "    print(err)"
   ]
  },
  {
   "cell_type": "code",
   "execution_count": 105,
   "metadata": {},
   "outputs": [
    {
     "name": "stdout",
     "output_type": "stream",
     "text": [
      "# let's catch some common exceptions\n",
      "\n",
      "1/0\n",
      "<class 'ZeroDivisionError'> : division by zero\n",
      "---last but not least, finally is executed---\n",
      "\n",
      "4+unknown_var\n",
      "<class 'NameError'> : name 'unknown_var' is not defined\n",
      "---last but not least, finally is executed---\n",
      "\n",
      "\"2\"+2\n",
      "<class 'TypeError'> : can only concatenate str (not \"int\") to str\n",
      "---last but not least, finally is executed---\n",
      "\n",
      "int('s')\n",
      "<class 'ValueError'> : invalid literal for int() with base 10: 's'\n",
      "---last but not least, finally is executed---\n",
      "\n",
      "print 1\n",
      "'print 1' was not caught because it causes SyntaxError\n",
      "<class 'SyntaxError'> : Missing parentheses in call to 'print'. Did you mean print(1)? (<string>, line 1)\n",
      "---last but not least, finally is executed---\n",
      "\n"
     ]
    }
   ],
   "source": [
    "print(\"# let's catch some common exceptions\\n\")\n",
    "to_execute = ['1/0',\\\n",
    "              '4+unknown_var',\\\n",
    "              '\"2\"+2',\\\n",
    "              \"int('s')\",\n",
    "              \"print 1\"]\n",
    "for i in to_execute:\n",
    "    try:\n",
    "        print(i)\n",
    "        eval(i)\n",
    "        print(\"I am not going to be printed\")\n",
    "    #except Exception as err:\n",
    "    #    print(type(err),\":\",err)\n",
    "    except (ZeroDivisionError,NameError,TypeError,ValueError) as err:\n",
    "        print(type(err),\":\",err)\n",
    "    except SyntaxError as err: \n",
    "        print(\"'print 1' was not caught because it causes SyntaxError\")\n",
    "        print(type(err),\":\",err)\n",
    "    finally: # should be at the end of try statement\n",
    "             # useful to make sure all resources are released\n",
    "             # even if an exception occurs\n",
    "             # even if no exception was caught\n",
    "        print(\"---last but not least, finally is executed---\\n\")"
   ]
  },
  {
   "cell_type": "markdown",
   "metadata": {},
   "source": [
    "## INHERITANCE"
   ]
  },
  {
   "cell_type": "code",
   "execution_count": 120,
   "metadata": {},
   "outputs": [
    {
     "name": "stdout",
     "output_type": "stream",
     "text": [
      "verse: unkown\n",
      "verse: Bau Bau!\n"
     ]
    },
    {
     "data": {
      "text/plain": [
       "99"
      ]
     },
     "execution_count": 120,
     "metadata": {},
     "output_type": "execute_result"
    }
   ],
   "source": [
    "class Animal:\n",
    "    def __init__(self):\n",
    "        self.age = 99\n",
    "        \n",
    "    def speak(self, verso = \"unkown\"):\n",
    "        print(\"verse:\", verso)\n",
    "        \n",
    "class Dog(Animal):\n",
    "    def speak(self):\n",
    "        super().speak(\"Bau Bau!\")\n",
    "        \n",
    "\n",
    "a_0 = Animal()\n",
    "a_0.speak()\n",
    "a_0.age\n",
    "\n",
    "a_1 = Dog()\n",
    "a_1.speak()\n",
    "a_1.age"
   ]
  },
  {
   "cell_type": "code",
   "execution_count": 134,
   "metadata": {},
   "outputs": [
    {
     "name": "stdout",
     "output_type": "stream",
     "text": [
      "A foo\n",
      "B foo\n",
      "D foo\n",
      "x = 99\n",
      "A foo\n"
     ]
    },
    {
     "data": {
      "text/plain": [
       "(__main__.D, __main__.A, object)"
      ]
     },
     "execution_count": 134,
     "metadata": {},
     "output_type": "execute_result"
    }
   ],
   "source": [
    "class A:\n",
    "    def __init__(self):\n",
    "        self.x = 99\n",
    "        \n",
    "    def foo(self):\n",
    "        print(\"A foo\")\n",
    "        \n",
    "class B(A):\n",
    "    def foo(self):\n",
    "        print(\"B foo\")\n",
    "        \n",
    "class C(A):\n",
    "    def foo(self):\n",
    "        print(\"C foo\")\n",
    "        \n",
    "class D(A):\n",
    "    def foo(self):\n",
    "        print(\"D foo\")\n",
    "        print(\"x =\", self.x)\n",
    "        A.foo(self) # call of foo from class A\n",
    "        \n",
    "a = A()\n",
    "a.foo()\n",
    "\n",
    "b = B()\n",
    "b.foo()\n",
    "\n",
    "d = D()\n",
    "d.foo()\n",
    "\n",
    "\n",
    "# Method Resolution Order (MRO) is the order in which methods\n",
    "# should be inherited in the presence of multiple inheritance.\n",
    "# Classes Derived appears by the most \"recent\" to the \"base\" class.\n",
    "D.__mro__ "
   ]
  },
  {
   "cell_type": "code",
   "execution_count": 138,
   "metadata": {},
   "outputs": [
    {
     "name": "stdout",
     "output_type": "stream",
     "text": [
      "True\n"
     ]
    }
   ],
   "source": [
    "print(isinstance(d, A)) # instead of type() for user-classes"
   ]
  },
  {
   "cell_type": "code",
   "execution_count": 157,
   "metadata": {},
   "outputs": [
    {
     "name": "stdout",
     "output_type": "stream",
     "text": [
      "a class: unkown\n",
      "This horse has 4 paws\n",
      "\n",
      "\n",
      "b class: herbivorous\n",
      "This horse has 4 paws\n"
     ]
    }
   ],
   "source": [
    "import abc # to define abstract methods\n",
    "\n",
    "class Animal(abc.ABC):\n",
    "    def __init__(self, class_animal = \"unkown\"):\n",
    "        self.class_animal = class_animal\n",
    "    \n",
    "    @abc.abstractmethod\n",
    "    def number_of_paws(self, number):pass\n",
    "\n",
    "class Horse(Animal):\n",
    "    def number_of_paws(self, number):\n",
    "        print(\"This horse has\", number, \"paws\")\n",
    "        \n",
    "'''\n",
    "don't instanciate an abstract class if\n",
    "you want you can do a class for Horse\n",
    "'''\n",
    "a = Horse() # expect error...\n",
    "print(\"a class:\", a.class_animal)\n",
    "a.number_of_paws(4)\n",
    "\n",
    "print(\"\\n\")\n",
    "\n",
    "b = Horse(\"herbivorous\")\n",
    "print(\"b class:\", b.class_animal)\n",
    "b.number_of_paws(4)"
   ]
  },
  {
   "cell_type": "markdown",
   "metadata": {},
   "source": [
    "## GENERATORS"
   ]
  },
  {
   "cell_type": "code",
   "execution_count": 163,
   "metadata": {},
   "outputs": [
    {
     "name": "stdout",
     "output_type": "stream",
     "text": [
      "banane\n",
      "pere\n",
      "mele\n",
      "finita spesa!\n"
     ]
    }
   ],
   "source": [
    "class ListaSpesa:\n",
    "    def __init__(self, comprare):\n",
    "        self.comprare = comprare\n",
    "        self.lunghezza = len(comprare)\n",
    "    \n",
    "    def __iter__(self):\n",
    "        return self\n",
    "    \n",
    "    def __next__(self):\n",
    "        if self.lunghezza == 0:\n",
    "            print(\"finita spesa!\")\n",
    "            raise StopIteration\n",
    "        else:\n",
    "            self.lunghezza = self.lunghezza -1\n",
    "        return self.comprare[self.lunghezza]\n",
    "\n",
    "\n",
    "for i in ListaSpesa([\"mele\", \"pere\", \"banane\"]):\n",
    "    print(i)"
   ]
  },
  {
   "cell_type": "code",
   "execution_count": 168,
   "metadata": {},
   "outputs": [
    {
     "name": "stdout",
     "output_type": "stream",
     "text": [
      "carne\n",
      "banane\n",
      "pere\n",
      "mele\n",
      "**********\n",
      "finita spesa!\n"
     ]
    }
   ],
   "source": [
    "lista = ListaSpesa([\"mele\", \"pere\", \"banane\", \"carne\"])\n",
    "\n",
    "print(next(lista))\n",
    "print(next(lista))\n",
    "print(next(lista))\n",
    "print(next(lista))\n",
    "\n",
    "print(\"*\"*10)\n",
    "\n",
    "for i in lista:\n",
    "    print(i)"
   ]
  },
  {
   "cell_type": "code",
   "execution_count": 169,
   "metadata": {},
   "outputs": [
    {
     "name": "stdout",
     "output_type": "stream",
     "text": [
      "IV\n",
      "3\n",
      "second\n",
      "first\n"
     ]
    }
   ],
   "source": [
    "# Simply speaking, a generator is a function that returns an object \n",
    "# (iterator) which we can iterate over (one value at a time)\n",
    "# they don't save in memory their contents\n",
    "def reverse(data):\n",
    "    for index in range(len(data)-1, -1, -1): # handle in reverse order through range()\n",
    "        yield data[index]\n",
    "        \n",
    "for i in reverse((\"first\", 'second', 3, 'IV')):\n",
    "    print(i)"
   ]
  },
  {
   "cell_type": "markdown",
   "metadata": {},
   "source": [
    "## CONTENT MANAGER"
   ]
  },
  {
   "cell_type": "code",
   "execution_count": 172,
   "metadata": {},
   "outputs": [
    {
     "data": {
      "text/plain": [
       "True"
      ]
     },
     "execution_count": 172,
     "metadata": {},
     "output_type": "execute_result"
    }
   ],
   "source": [
    "with open(\"file.txt\", \"w\") as f: # open a new file in write mode\n",
    "    for i in range(10):\n",
    "        print(i, file = f) # specify where the function have to print\n",
    "\n",
    "f.closed # to check if the file is closed\n",
    "\n",
    "with open('file.txt') as f: # read mode is default\n",
    "    a = [int(i) for i in f] # read from file f and store in a lis\n",
    "    print(a)"
   ]
  }
 ],
 "metadata": {
  "kernelspec": {
   "display_name": "Python 3",
   "language": "python",
   "name": "python3"
  },
  "language_info": {
   "codemirror_mode": {
    "name": "ipython",
    "version": 3
   },
   "file_extension": ".py",
   "mimetype": "text/x-python",
   "name": "python",
   "nbconvert_exporter": "python",
   "pygments_lexer": "ipython3",
   "version": "3.7.6"
  }
 },
 "nbformat": 4,
 "nbformat_minor": 4
}
