{
 "cells": [
  {
   "cell_type": "markdown",
   "metadata": {},
   "source": [
    "## LIST"
   ]
  },
  {
   "cell_type": "code",
   "execution_count": 52,
   "metadata": {},
   "outputs": [
    {
     "name": "stdout",
     "output_type": "stream",
     "text": [
      "[1, 'string', 2.5]\n"
     ]
    }
   ],
   "source": [
    "l = []\n",
    "\n",
    "l.append(1)\n",
    "l.append(\"string\")\n",
    "l.append(2.5)\n",
    "\n",
    "print(l)"
   ]
  },
  {
   "cell_type": "code",
   "execution_count": 54,
   "metadata": {},
   "outputs": [
    {
     "name": "stdout",
     "output_type": "stream",
     "text": [
      "140679844998352 140679844998352\n",
      "[1, 2, 3, 5] [1, 2, 3, 5]\n"
     ]
    }
   ],
   "source": [
    "a = [1, 2, 3]\n",
    "b = a\n",
    "b.append(5) # shallow copy!\n",
    "\n",
    "print(id(a), id(b))\n",
    "print(a, b)"
   ]
  },
  {
   "cell_type": "code",
   "execution_count": 2,
   "metadata": {},
   "outputs": [
    {
     "name": "stdout",
     "output_type": "stream",
     "text": [
      "list l: [0, 1, 2, 3, 4, 5, 6, 7, 8, 9]\n"
     ]
    }
   ],
   "source": [
    "l = list(range(10))\n",
    "print(\"list l:\", l)"
   ]
  },
  {
   "cell_type": "code",
   "execution_count": 3,
   "metadata": {},
   "outputs": [
    {
     "name": "stdout",
     "output_type": "stream",
     "text": [
      "[1, 3, 5]\n",
      "[0, 1, 2]\n",
      "[0, 1, 2, 3, 4, 5, 6, 7, 8]\n"
     ]
    }
   ],
   "source": [
    "print(l[1:6:2]) # start = 0, end = 3, step = 2\n",
    "print(l[:3]) # (start = 0), end = 3, (step = 1)\n",
    "print(l[:-1]) # (start = 0), end = 5 (last element is excluded)"
   ]
  },
  {
   "cell_type": "code",
   "execution_count": 4,
   "metadata": {},
   "outputs": [
    {
     "name": "stdout",
     "output_type": "stream",
     "text": [
      "[0, 1, 2, 3, 4, 5, 6, 7, 8, 9, 0, 1, 2, 3, 4, 5, 6, 7, 8, 9, 0, 1, 2, 3, 4, 5, 6, 7, 8, 9]\n",
      "[0, 1, 2, 3, 4, 5, 6, 7, 8, 9, 0, 1, 2, 3, 4, 5, 6, 7, 8, 9]\n",
      "[0, 1, 2, 3, 4, 5, 6, 7, 8, 9]\n"
     ]
    }
   ],
   "source": [
    "# + and * return always a new obj\n",
    "print(l*3)\n",
    "print(l+l)\n",
    "print(l)"
   ]
  },
  {
   "cell_type": "code",
   "execution_count": 5,
   "metadata": {},
   "outputs": [
    {
     "name": "stdout",
     "output_type": "stream",
     "text": [
      "[1, 2, 2, 2, 4, 4, 5, 5, 6, 7, 10]\n",
      "[1, 2, 2, 2, 4, 4, 5, 5, 6, 7, 10]\n"
     ]
    }
   ],
   "source": [
    "l = [2, 4, 1, 5, 6, 2, 4, 2, 5, 7 ,10]\n",
    "l.sort() # return this\n",
    "c = sorted(l) # return a new obj\n",
    "\n",
    "print(l)\n",
    "print(c)"
   ]
  },
  {
   "cell_type": "code",
   "execution_count": 6,
   "metadata": {},
   "outputs": [
    {
     "name": "stdout",
     "output_type": "stream",
     "text": [
      "[0, 1, 2, 3, 5, 6, 7, 8, 9]\n"
     ]
    }
   ],
   "source": [
    "l = list(range(10))\n",
    "l.pop(4)\n",
    "print(l)\n",
    "\n",
    "del l # list obj destroyed"
   ]
  },
  {
   "cell_type": "code",
   "execution_count": 7,
   "metadata": {},
   "outputs": [
    {
     "name": "stdout",
     "output_type": "stream",
     "text": [
      "0\n",
      "1\n",
      "2\n",
      "3\n",
      "4\n",
      "5\n",
      "6\n",
      "7\n",
      "8\n",
      "9\n"
     ]
    }
   ],
   "source": [
    "l = list(range(10))\n",
    "for x in l:\n",
    "    print(x)"
   ]
  },
  {
   "cell_type": "code",
   "execution_count": 60,
   "metadata": {},
   "outputs": [],
   "source": [
    "l = [[[[1], []], []], [], []]*3\n",
    "l[0][0][0][0] = 3\n",
    "lw = [[[[1], []], []], [], []]\n",
    "del lw[0][0]\n",
    "# lw[0][0][0][0] # ERROR: cannot access deep nested list"
   ]
  },
  {
   "cell_type": "markdown",
   "metadata": {},
   "source": [
    "## TUPLE"
   ]
  },
  {
   "cell_type": "code",
   "execution_count": 8,
   "metadata": {},
   "outputs": [
    {
     "data": {
      "text/plain": [
       "(2, 3, 4, 5)"
      ]
     },
     "execution_count": 8,
     "metadata": {},
     "output_type": "execute_result"
    }
   ],
   "source": [
    "t = tuple(range(10))\n",
    "t[2:6:1]\n",
    "# t[2] = 5 # ERROR:tuple is immutable"
   ]
  },
  {
   "cell_type": "code",
   "execution_count": 56,
   "metadata": {},
   "outputs": [
    {
     "data": {
      "text/plain": [
       "(1, [2, 3, 4, 99], 5, 6)"
      ]
     },
     "execution_count": 56,
     "metadata": {},
     "output_type": "execute_result"
    }
   ],
   "source": [
    "# but if a tuple has a list that it's mutable \n",
    "# we can modify the tuple (but not it's structure, (int, list, int, int))\n",
    "t = (1, [2, 3, 4], 5, 6)\n",
    "t[1].append(99) \n",
    "t "
   ]
  },
  {
   "cell_type": "code",
   "execution_count": 9,
   "metadata": {},
   "outputs": [
    {
     "name": "stdout",
     "output_type": "stream",
     "text": [
      "('first', 'second')\n",
      "first second\n",
      "first\n",
      "[('me', 'jack'), ('me', 'taylor'), ('me', 'frank'), ('you', 'jack'), ('you', 'taylor'), ('you', 'frank')]\n"
     ]
    }
   ],
   "source": [
    "a = \"first\"\n",
    "b = \"second\"\n",
    "\n",
    "t = a, b # tuple packing\n",
    "print(t)\n",
    "\n",
    "c, d = t # tuple unpacking\n",
    "print(c, d)\n",
    "\n",
    "e, _ = t # with '_' we ignore an element of unpacked obj\n",
    "print(e)\n",
    "\n",
    "players = (\"jack\", \"taylor\", \"frank\")\n",
    "leaders = (\"me\", \"you\")\n",
    "\n",
    "tournament = [(l, p) for l in leaders for p in players] # extraction and packing n * m\n",
    "print(tournament)"
   ]
  },
  {
   "cell_type": "code",
   "execution_count": 10,
   "metadata": {},
   "outputs": [
    {
     "name": "stdout",
     "output_type": "stream",
     "text": [
      "3 9\n",
      "9 3\n"
     ]
    }
   ],
   "source": [
    "a = 3\n",
    "b = 9\n",
    "\n",
    "print(a, b)\n",
    "\n",
    "a, b = b, a #SWAP IN PYTHON\n",
    "print(a, b)"
   ]
  },
  {
   "cell_type": "code",
   "execution_count": 11,
   "metadata": {},
   "outputs": [
    {
     "name": "stdout",
     "output_type": "stream",
     "text": [
      "140679846191504\n",
      "(1, [2, 7], [3, 4])\n",
      "140679846191504\n",
      "(1, [2, 7, 5], [3, 4])\n"
     ]
    }
   ],
   "source": [
    "t = (1, [2, 7], [3,4])\n",
    "print(id(t[-1])) # id returns the addr of the obj\n",
    "print(t)\n",
    "\n",
    "t[-2].append(5)\n",
    "print(id(t[-1]))\n",
    "print(t)"
   ]
  },
  {
   "cell_type": "code",
   "execution_count": 12,
   "metadata": {
    "scrolled": false
   },
   "outputs": [
    {
     "name": "stdout",
     "output_type": "stream",
     "text": [
      "(1, 2, [3, 4])\n",
      "[3, 4]\n",
      "(1, 2, [3, 4])\n",
      "[1, 2, 3, 4, [5, 6]]\n",
      "1\n",
      "2\n",
      "[3, 4]\n"
     ]
    }
   ],
   "source": [
    "t = (1, 2, [3, 4])\n",
    "print(t)\n",
    "print(t[-1]) # ignore last element\n",
    "print(t)\n",
    "\n",
    "# t[1] += [5, 6] # cannot modify tuple\n",
    "#t[-1] += [5, 6] # cannot do that\n",
    "\n",
    "c = [1, 2, 3, 4, 5]\n",
    "c[-1] = [5, 6] # last element is overwritten\n",
    "print(c)\n",
    "\n",
    "for x in t:\n",
    "    print(x)"
   ]
  },
  {
   "cell_type": "code",
   "execution_count": null,
   "metadata": {},
   "outputs": [],
   "source": [
    "t = 1, 2\n",
    "c = 3, 4\n",
    "\n",
    "print(id(c))\n",
    "c = t + c\n",
    "print(id(c))\n",
    "\n",
    "print(d)\n",
    "print(type(t))"
   ]
  },
  {
   "cell_type": "markdown",
   "metadata": {},
   "source": [
    "- **do not mix immutables with mutables objects**\n",
    "- **tuples are faster and need less memory**"
   ]
  },
  {
   "cell_type": "markdown",
   "metadata": {},
   "source": [
    "## DICTIONARIES"
   ]
  },
  {
   "cell_type": "code",
   "execution_count": 13,
   "metadata": {},
   "outputs": [
    {
     "name": "stdout",
     "output_type": "stream",
     "text": [
      "{'Victor': ('Molavia', 123456789, 1000), 'Thomas': ('albania', 84294425, 100000000000000), 'Pietro': ('Italia', 5050645601, 1)}\n"
     ]
    }
   ],
   "source": [
    "ex = {\"Victor\" : (\"Molavia\", 123456789, 1000),\n",
    "      \"Thomas\" : (\"albania\", 84294425, 100000000000000),\n",
    "      \"Pietro\" : (\"Italia\", 5050645601, 1)}\n",
    "\n",
    "print(ex)"
   ]
  },
  {
   "cell_type": "code",
   "execution_count": 14,
   "metadata": {},
   "outputs": [
    {
     "name": "stdout",
     "output_type": "stream",
     "text": [
      "True\n",
      "False\n"
     ]
    }
   ],
   "source": [
    "print(\"Pietro\" in ex)\n",
    "print(\"Dogan\" in ex)"
   ]
  },
  {
   "cell_type": "code",
   "execution_count": 15,
   "metadata": {},
   "outputs": [
    {
     "name": "stdout",
     "output_type": "stream",
     "text": [
      "Victor\n",
      "Thomas\n",
      "Pietro\n",
      "('Molavia', 123456789, 1000)\n",
      "('albania', 84294425, 100000000000000)\n",
      "('Italia', 5050645601, 1)\n",
      "('Victor', ('Molavia', 123456789, 1000))\n",
      "('Thomas', ('albania', 84294425, 100000000000000))\n",
      "('Pietro', ('Italia', 5050645601, 1))\n"
     ]
    }
   ],
   "source": [
    "for k in ex.keys():\n",
    "    print(k)\n",
    "\n",
    "for v in ex.values():\n",
    "    print(v)\n",
    "    \n",
    "for i in ex.items():\n",
    "    print(i)"
   ]
  },
  {
   "cell_type": "code",
   "execution_count": 17,
   "metadata": {},
   "outputs": [
    {
     "ename": "NameError",
     "evalue": "name 'ex' is not defined",
     "output_type": "error",
     "traceback": [
      "\u001b[0;31m---------------------------------------------------------------------------\u001b[0m",
      "\u001b[0;31mNameError\u001b[0m                                 Traceback (most recent call last)",
      "\u001b[0;32m<ipython-input-17-09ceaeff7faa>\u001b[0m in \u001b[0;36m<module>\u001b[0;34m\u001b[0m\n\u001b[0;32m----> 1\u001b[0;31m \u001b[0;32mdel\u001b[0m \u001b[0mex\u001b[0m\u001b[0;34m\u001b[0m\u001b[0;34m\u001b[0m\u001b[0m\n\u001b[0m",
      "\u001b[0;31mNameError\u001b[0m: name 'ex' is not defined"
     ]
    }
   ],
   "source": [
    "del ex"
   ]
  },
  {
   "cell_type": "markdown",
   "metadata": {},
   "source": [
    "## SETS"
   ]
  },
  {
   "cell_type": "code",
   "execution_count": 45,
   "metadata": {},
   "outputs": [
    {
     "name": "stdout",
     "output_type": "stream",
     "text": [
      "{1, 2, 3, 4, 5}\n",
      "{1, 2, 3, 4, 5, 6}\n",
      "{1, 2, 3, 4, 5}\n",
      "set()\n"
     ]
    }
   ],
   "source": [
    "insieme1 = set()\n",
    "insieme1 = {1, 2, 3, 4, 5}\n",
    "\n",
    "print(insieme1)\n",
    "\n",
    "3 in insieme1\n",
    "# used to know if something exists \n",
    "# (is present) avoiding repetitions\n",
    "\n",
    "insieme2 = set() # have to be specified the obj type\n",
    "insieme2 = {6, 2, 3, 1}\n",
    "\n",
    "insieme3 = insieme1 | insieme2 # union\n",
    "print(insieme3)\n",
    "\n",
    "insieme4 = insieme3 & insieme1 # intersect\n",
    "print(insieme4) \n",
    "\n",
    "insieme5 = insieme2 - insieme3 # diff\n",
    "print(insieme5)"
   ]
  },
  {
   "cell_type": "code",
   "execution_count": 50,
   "metadata": {},
   "outputs": [
    {
     "name": "stdout",
     "output_type": "stream",
     "text": [
      "0 1 [2, 3, 4, 5, 6, 7, 8, 9]\n",
      "0 [1, 2, 3, 4, 5, 6, 7, 8] 9\n",
      "9\n"
     ]
    }
   ],
   "source": [
    "a, b, *rest = range(10) # *rest takes all the rest\n",
    "print(a, b, rest)\n",
    "\n",
    "c, *d, e = range(10)\n",
    "print(c, d, e)\n",
    "\n",
    "*_, last = range(10)\n",
    "print(last)"
   ]
  },
  {
   "cell_type": "code",
   "execution_count": null,
   "metadata": {},
   "outputs": [],
   "source": []
  }
 ],
 "metadata": {
  "kernelspec": {
   "display_name": "Python 3",
   "language": "python",
   "name": "python3"
  },
  "language_info": {
   "codemirror_mode": {
    "name": "ipython",
    "version": 3
   },
   "file_extension": ".py",
   "mimetype": "text/x-python",
   "name": "python",
   "nbconvert_exporter": "python",
   "pygments_lexer": "ipython3",
   "version": "3.7.6"
  }
 },
 "nbformat": 4,
 "nbformat_minor": 4
}
