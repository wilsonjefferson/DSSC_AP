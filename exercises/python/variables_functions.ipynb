{
 "cells": [
  {
   "cell_type": "markdown",
   "metadata": {},
   "source": [
    "## FUNCTIONS"
   ]
  },
  {
   "cell_type": "code",
   "execution_count": 2,
   "metadata": {},
   "outputs": [
    {
     "name": "stdout",
     "output_type": "stream",
     "text": [
      "hello\n"
     ]
    }
   ],
   "source": [
    "def hello():\n",
    "    print(\"hello\")\n",
    "    \n",
    "a = hello\n",
    "a()"
   ]
  },
  {
   "cell_type": "code",
   "execution_count": 5,
   "metadata": {},
   "outputs": [
    {
     "name": "stdout",
     "output_type": "stream",
     "text": [
      "a got to_a\n",
      "b got to_b\n",
      "c got to_c\n"
     ]
    }
   ],
   "source": [
    "def abc(a, b, c):\n",
    "    for i in (\"a\", \"b\", \"c\"):\n",
    "        print(i, \"got\", eval(i))\n",
    "        \n",
    "abc('to_a', 'to_b', 'to_c')"
   ]
  },
  {
   "cell_type": "code",
   "execution_count": 11,
   "metadata": {},
   "outputs": [
    {
     "name": "stdout",
     "output_type": "stream",
     "text": [
      "a got to_a\n",
      "b got to_b\n",
      "c got to_c\n"
     ]
    }
   ],
   "source": [
    "def abc(*, a = \"aa\", b = \"bb\", c = \"cc\"):\n",
    "    for i in (\"a\", \"b\", \"c\"):\n",
    "        print(i, \"got\", eval(i))\n",
    "        \n",
    "abc(a = 'to_a', b = 'to_b', c ='to_c')\n",
    "# abc('to_a', 'to_b', 'to_c') # ERROR: args keywords needed"
   ]
  },
  {
   "cell_type": "markdown",
   "metadata": {},
   "source": [
    "## GLOBAL AND LOCAL VARIABLE"
   ]
  },
  {
   "cell_type": "code",
   "execution_count": 16,
   "metadata": {},
   "outputs": [
    {
     "name": "stdout",
     "output_type": "stream",
     "text": [
      "main 9\n"
     ]
    },
    {
     "ename": "UnboundLocalError",
     "evalue": "local variable 'b' referenced before assignment",
     "output_type": "error",
     "traceback": [
      "\u001b[0;31m---------------------------------------------------------------------------\u001b[0m",
      "\u001b[0;31mUnboundLocalError\u001b[0m                         Traceback (most recent call last)",
      "\u001b[0;32m<ipython-input-16-512f0ae81ad6>\u001b[0m in \u001b[0;36m<module>\u001b[0;34m\u001b[0m\n\u001b[1;32m      7\u001b[0m \u001b[0;34m\u001b[0m\u001b[0m\n\u001b[1;32m      8\u001b[0m \u001b[0mprint\u001b[0m\u001b[0;34m(\u001b[0m\u001b[0;34m\"main\"\u001b[0m\u001b[0;34m,\u001b[0m \u001b[0mb\u001b[0m\u001b[0;34m)\u001b[0m\u001b[0;34m\u001b[0m\u001b[0;34m\u001b[0m\u001b[0m\n\u001b[0;32m----> 9\u001b[0;31m \u001b[0mmagic\u001b[0m\u001b[0;34m(\u001b[0m\u001b[0;34m)\u001b[0m\u001b[0;34m\u001b[0m\u001b[0;34m\u001b[0m\u001b[0m\n\u001b[0m",
      "\u001b[0;32m<ipython-input-16-512f0ae81ad6>\u001b[0m in \u001b[0;36mmagic\u001b[0;34m()\u001b[0m\n\u001b[1;32m      3\u001b[0m \u001b[0;32mdef\u001b[0m \u001b[0mmagic\u001b[0m\u001b[0;34m(\u001b[0m\u001b[0;34m)\u001b[0m\u001b[0;34m:\u001b[0m\u001b[0;34m\u001b[0m\u001b[0;34m\u001b[0m\u001b[0m\n\u001b[1;32m      4\u001b[0m     \u001b[0my\u001b[0m \u001b[0;34m=\u001b[0m \u001b[0;36m7\u001b[0m\u001b[0;34m\u001b[0m\u001b[0;34m\u001b[0m\u001b[0m\n\u001b[0;32m----> 5\u001b[0;31m     \u001b[0mprint\u001b[0m\u001b[0;34m(\u001b[0m\u001b[0;34m\"inside magic\"\u001b[0m\u001b[0;34m,\u001b[0m \u001b[0my\u001b[0m\u001b[0;34m,\u001b[0m \u001b[0mb\u001b[0m\u001b[0;34m)\u001b[0m \u001b[0;31m#ERROR\u001b[0m\u001b[0;34m\u001b[0m\u001b[0;34m\u001b[0m\u001b[0m\n\u001b[0m\u001b[1;32m      6\u001b[0m     \u001b[0mb\u001b[0m \u001b[0;34m=\u001b[0m \u001b[0;36m6\u001b[0m\u001b[0;34m\u001b[0m\u001b[0;34m\u001b[0m\u001b[0m\n\u001b[1;32m      7\u001b[0m \u001b[0;34m\u001b[0m\u001b[0m\n",
      "\u001b[0;31mUnboundLocalError\u001b[0m: local variable 'b' referenced before assignment"
     ]
    }
   ],
   "source": [
    "b = 9\n",
    "\n",
    "def magic():\n",
    "    y = 7\n",
    "    print(\"inside magic\", y, b) #ERROR: b here local\n",
    "    b = 6\n",
    "\n",
    "print(\"main\", b)\n",
    "magic()"
   ]
  },
  {
   "cell_type": "code",
   "execution_count": 19,
   "metadata": {},
   "outputs": [
    {
     "name": "stdout",
     "output_type": "stream",
     "text": [
      "inside fun: 9 7\n",
      "global b: 6\n"
     ]
    }
   ],
   "source": [
    "b = 9\n",
    "\n",
    "def fun():\n",
    "    global b # this b is the global one\n",
    "    y = 7\n",
    "    print(\"inside fun:\", b, y)\n",
    "    b = 6 # global b modified\n",
    "\n",
    "fun()\n",
    "print(\"global b:\", b)"
   ]
  },
  {
   "cell_type": "code",
   "execution_count": 21,
   "metadata": {},
   "outputs": [],
   "source": [
    "def inspect_vars(o):\n",
    "    for i in ('co_varnames', 'co_freevars'):\n",
    "        print(i, eval('o.__code__.'+i))\n"
   ]
  },
  {
   "cell_type": "code",
   "execution_count": 22,
   "metadata": {},
   "outputs": [
    {
     "name": "stdout",
     "output_type": "stream",
     "text": [
      "9.0\n",
      "10.0\n",
      "20.0\n"
     ]
    }
   ],
   "source": [
    "def maker():\n",
    "    so_far=[]\n",
    "    def avg(new_value):\n",
    "        so_far.append(new_value)\n",
    "        return sum(so_far)/len(so_far)\n",
    "    return avg \n",
    "\n",
    "av = maker()\n",
    "print(av(9))\n",
    "print(av(11))\n",
    "print(av(40))"
   ]
  },
  {
   "cell_type": "code",
   "execution_count": 24,
   "metadata": {},
   "outputs": [
    {
     "name": "stdout",
     "output_type": "stream",
     "text": [
      "co_varnames ('new_value',)\n",
      "co_freevars ('so_far',)\n"
     ]
    }
   ],
   "source": [
    "inspect_vars(av)"
   ]
  },
  {
   "cell_type": "code",
   "execution_count": 26,
   "metadata": {},
   "outputs": [
    {
     "name": "stdout",
     "output_type": "stream",
     "text": [
      "9.0\n",
      "10.0\n",
      "20.0\n"
     ]
    }
   ],
   "source": [
    "def maker_right():\n",
    "    _sum = 0\n",
    "    _count = 0\n",
    "    def avg(new_value):\n",
    "        nonlocal _sum,_count\n",
    "        _sum += new_value\n",
    "        _count += 1\n",
    "        return _sum/_count\n",
    "    return avg\n",
    "\n",
    "av = maker_right()\n",
    "print(av(9))\n",
    "print(av(11))\n",
    "print(av(40))"
   ]
  },
  {
   "cell_type": "code",
   "execution_count": 27,
   "metadata": {},
   "outputs": [
    {
     "name": "stdout",
     "output_type": "stream",
     "text": [
      "co_varnames ('new_value',)\n",
      "co_freevars ('_count', '_sum')\n"
     ]
    }
   ],
   "source": [
    "inspect_vars(av)"
   ]
  },
  {
   "cell_type": "markdown",
   "metadata": {},
   "source": [
    "## COPY AND DEEP COPY"
   ]
  },
  {
   "cell_type": "code",
   "execution_count": 36,
   "metadata": {},
   "outputs": [
    {
     "name": "stdout",
     "output_type": "stream",
     "text": [
      "True\n",
      "True\n",
      "139651469875312 139651469875312\n"
     ]
    }
   ],
   "source": [
    "l = [1, 2, 3]\n",
    "o = l\n",
    "\n",
    "print(o == l)\n",
    "print(o is l)\n",
    "print(id(o), id(l))\n",
    "\n",
    "l.append(9)\n",
    "print(l, o)"
   ]
  },
  {
   "cell_type": "code",
   "execution_count": 38,
   "metadata": {},
   "outputs": [],
   "source": [
    "import copy"
   ]
  },
  {
   "cell_type": "code",
   "execution_count": 41,
   "metadata": {},
   "outputs": [
    {
     "name": "stdout",
     "output_type": "stream",
     "text": [
      "[1, 2, 3, 9, 888] [1, 2, 3, 9]\n"
     ]
    }
   ],
   "source": [
    "o = copy.copy(l) ## deep copy!\n",
    "l.append(888)\n",
    "print(l, o)"
   ]
  },
  {
   "cell_type": "code",
   "execution_count": 43,
   "metadata": {},
   "outputs": [
    {
     "name": "stdout",
     "output_type": "stream",
     "text": [
      "[1, 2, 3, 9, 888, 342, 342] [1, 2, 3, 9, 888, 342]\n"
     ]
    }
   ],
   "source": [
    "o = copy.deepcopy(l)\n",
    "l.append(342)\n",
    "print(l, o)"
   ]
  },
  {
   "cell_type": "markdown",
   "metadata": {},
   "source": [
    "## NASTY BUGS"
   ]
  },
  {
   "cell_type": "code",
   "execution_count": 64,
   "metadata": {},
   "outputs": [
    {
     "name": "stdout",
     "output_type": "stream",
     "text": [
      "42 43 44\n"
     ]
    }
   ],
   "source": [
    "# methods is a list of (lambda) functions, so by\n",
    "# accessing an element of the list you are taking\n",
    "# the statement of the function and by passing an \n",
    "# arg with () you can have the corrisponding result\n",
    "\n",
    "def define_methods(number):\n",
    "    methods = []\n",
    "    for i in range(number):\n",
    "        #methods.append(lambda var: 2*var + i) # error\n",
    "        methods.append(lambda var, i = i : 2*var + i)\n",
    "    return methods\n",
    "\n",
    "funcs = define_methods(10)\n",
    "print(funcs[2](20), funcs[3](20), funcs[4](20))"
   ]
  },
  {
   "cell_type": "code",
   "execution_count": 90,
   "metadata": {},
   "outputs": [
    {
     "name": "stdout",
     "output_type": "stream",
     "text": [
      "['func visited']\n",
      "['under control', 'func visited']\n",
      "['func visited', 'func visited']\n",
      "['func visited', 'func visited']\n",
      "['Victor', 'func visited']\n",
      "['func visited', 'func visited', 'func visited']\n",
      "['Victor', 'func visited']\n",
      "['first', 2, 'you visited func function']\n"
     ]
    }
   ],
   "source": [
    "def func(a = []): # default is statis and shared\n",
    "    a += [\"func visited\"] # same obj returned\n",
    "    return a\n",
    "\n",
    "l_default = func()\n",
    "print(l_default)\n",
    "\n",
    "l_custom = func(['under control'])\n",
    "print(l_custom)\n",
    "\n",
    "OMG = func()\n",
    "print(OMG)\n",
    "\n",
    "print(l_default)\n",
    "\n",
    "OMG2 = func([\"Victor\"])\n",
    "print(OMG2)\n",
    "\n",
    "OMG3 = func()\n",
    "print(OMG3)\n",
    "\n",
    "OMG4 = func([\"Victor\"])\n",
    "print(OMG4)\n",
    "\n",
    "del OMG3\n",
    "print(OMG)\n",
    "\n",
    "# variables that has not passed arg in the function\n",
    "# are actually sharing the same obj"
   ]
  },
  {
   "cell_type": "code",
   "execution_count": 80,
   "metadata": {},
   "outputs": [
    {
     "name": "stdout",
     "output_type": "stream",
     "text": [
      "['first', 2, 'you visited func function']\n",
      "['you visited func function']\n"
     ]
    }
   ],
   "source": [
    "def func(a = None):\n",
    "    '''returns a list'''\n",
    "    if a:\n",
    "        a = list(a) + ['you visited func function']\n",
    "    else:\n",
    "        a = ['you visited func function']\n",
    "    return a\n",
    "\n",
    "a = func(('first',2)) \n",
    "print(a)\n",
    "b = func() # non as arg\n",
    "print(b)"
   ]
  },
  {
   "cell_type": "markdown",
   "metadata": {},
   "source": [
    "## CLASSES"
   ]
  },
  {
   "cell_type": "code",
   "execution_count": 96,
   "metadata": {},
   "outputs": [
    {
     "data": {
      "text/plain": [
       "4"
      ]
     },
     "execution_count": 96,
     "metadata": {},
     "output_type": "execute_result"
    }
   ],
   "source": [
    "class Point():\n",
    "    \n",
    "    def __init__(self, x, y):\n",
    "        self.x = x\n",
    "        self.y = y\n",
    "    \n",
    "p = Point(1, 2) \n",
    "p.x += 3 # p.x = p.x + 3\n",
    "p.x"
   ]
  },
  {
   "cell_type": "code",
   "execution_count": 105,
   "metadata": {},
   "outputs": [
    {
     "name": "stdout",
     "output_type": "stream",
     "text": [
      "Point: 1, 2 Point: 2, 3\n",
      "True\n"
     ]
    },
    {
     "data": {
      "text/plain": [
       "2.23606797749979"
      ]
     },
     "execution_count": 105,
     "metadata": {},
     "output_type": "execute_result"
    }
   ],
   "source": [
    "class Point():\n",
    "    \n",
    "    def __init__(self, x, y):\n",
    "        self.x = x\n",
    "        self.y = y\n",
    "    \n",
    "    def __str__(self):\n",
    "        return \"Point: {0}, {1}\".format(self.x, self.y)\n",
    "    \n",
    "    def __eq__(self, other):\n",
    "        return (self.x == other.x) and (self.x == other.x)\n",
    "    \n",
    "    def __abs__(self):\n",
    "        import math\n",
    "        return math.hypot(self.x, self.y)\n",
    "    \n",
    "    \n",
    "p_0 = Point(1, 2)\n",
    "p_1 = Point(2, 3)\n",
    "print(p_0, p_1)\n",
    "\n",
    "print(p_0 == Point(1, 2))\n",
    "abs(p_0)"
   ]
  }
 ],
 "metadata": {
  "kernelspec": {
   "display_name": "Python 3",
   "language": "python",
   "name": "python3"
  },
  "language_info": {
   "codemirror_mode": {
    "name": "ipython",
    "version": 3
   },
   "file_extension": ".py",
   "mimetype": "text/x-python",
   "name": "python",
   "nbconvert_exporter": "python",
   "pygments_lexer": "ipython3",
   "version": "3.7.6"
  }
 },
 "nbformat": 4,
 "nbformat_minor": 4
}
