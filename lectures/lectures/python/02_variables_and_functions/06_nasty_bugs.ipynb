{
 "cells": [
  {
   "cell_type": "markdown",
   "metadata": {},
   "source": [
    "### free vars"
   ]
  },
  {
   "cell_type": "code",
   "execution_count": null,
   "metadata": {},
   "outputs": [],
   "source": [
    "def define_methods(number):\n",
    "    methods = []                       \n",
    "    for i in range(number):     \n",
    "        methods.append(lambda var: 2*var + i )\n",
    "    return methods\n",
    "funcs = define_methods(10)\n",
    "\n",
    "funcs[2](20) # expect 2*20 + 2 = 42"
   ]
  },
  {
   "cell_type": "code",
   "execution_count": null,
   "metadata": {},
   "outputs": [],
   "source": [
    "def define_methods(number):\n",
    "    methods = []                       \n",
    "    for i in range(number):     \n",
    "        methods.append(lambda var,i=i: 2*var + i )\n",
    "    return methods\n",
    "funcs = define_methods(10)\n",
    "\n",
    "funcs[2](20) # expect 2*20 + 2 = 42"
   ]
  },
  {
   "cell_type": "markdown",
   "metadata": {},
   "source": [
    "###  (mutable) default values\n",
    "The only mode pf parameter passing in Python is **call by sharing**."
   ]
  },
  {
   "cell_type": "code",
   "execution_count": null,
   "metadata": {},
   "outputs": [],
   "source": [
    "def func(a=[]):\n",
    "    a += ['you visited func function']\n",
    "    return a\n",
    "\n",
    "l_default = func()\n",
    "print(l_default)"
   ]
  },
  {
   "cell_type": "code",
   "execution_count": null,
   "metadata": {},
   "outputs": [],
   "source": [
    "l_custom = func(['under control'])\n",
    "print(l_custom)"
   ]
  },
  {
   "cell_type": "code",
   "execution_count": null,
   "metadata": {},
   "outputs": [],
   "source": [
    "OMG = func()\n",
    "print(OMG)"
   ]
  },
  {
   "cell_type": "code",
   "execution_count": null,
   "metadata": {},
   "outputs": [],
   "source": [
    "l_default"
   ]
  },
  {
   "cell_type": "markdown",
   "metadata": {},
   "source": [
    "###  None"
   ]
  },
  {
   "cell_type": "code",
   "execution_count": null,
   "metadata": {},
   "outputs": [],
   "source": [
    "def func(a=None):\n",
    "    '''returns a list'''\n",
    "    if a:\n",
    "        a = list(a) + ['you visited func function']\n",
    "    else:\n",
    "        a = ['you visited func function']\n",
    "    return a\n"
   ]
  },
  {
   "cell_type": "code",
   "execution_count": null,
   "metadata": {},
   "outputs": [],
   "source": [
    "a = func(('first',2))\n",
    "a"
   ]
  }
 ],
 "metadata": {
  "kernelspec": {
   "display_name": "Python 3",
   "language": "python",
   "name": "python3"
  },
  "language_info": {
   "codemirror_mode": {
    "name": "ipython",
    "version": 3
   },
   "file_extension": ".py",
   "mimetype": "text/x-python",
   "name": "python",
   "nbconvert_exporter": "python",
   "pygments_lexer": "ipython3",
   "version": "3.7.3"
  }
 },
 "nbformat": 4,
 "nbformat_minor": 2
}
