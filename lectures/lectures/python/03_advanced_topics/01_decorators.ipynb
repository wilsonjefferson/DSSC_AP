{
 "cells": [
  {
   "cell_type": "markdown",
   "metadata": {},
   "source": [
    "##  Decorators"
   ]
  },
  {
   "cell_type": "code",
   "execution_count": null,
   "metadata": {
    "collapsed": true
   },
   "outputs": [],
   "source": [
    "def decorate1(func):\n",
    "    def inner():\n",
    "        print(\"apply decorate1\")\n",
    "        func()\n",
    "    return inner\n",
    "\n",
    "@decorate1\n",
    "def hello():\n",
    "    print(\"hello, world!\")\n",
    "        \n",
    "hello()"
   ]
  },
  {
   "cell_type": "code",
   "execution_count": null,
   "metadata": {
    "collapsed": true
   },
   "outputs": [],
   "source": [
    "%reset -sf \n",
    "def decorate1(func):\n",
    "    def inner():\n",
    "        print(\"apply decorate1\")\n",
    "        func()\n",
    "    return inner\n",
    "\n",
    "def hello():\n",
    "    print(\"hello, world!\")\n",
    "\n",
    "hello = decorate1(hello)\n",
    "hello()"
   ]
  },
  {
   "cell_type": "code",
   "execution_count": null,
   "metadata": {
    "collapsed": true
   },
   "outputs": [],
   "source": [
    "def decorate2(func):\n",
    "    def inner():\n",
    "        print(\"apply decorate2\")\n",
    "        func()\n",
    "    return inner\n",
    "\n",
    "@decorate1\n",
    "@decorate2\n",
    "def hello12():\n",
    "    print(\"hello, world!\")\n",
    "hello12() # same as hello12 = decorate1(decorate2(hello12))"
   ]
  },
  {
   "cell_type": "code",
   "execution_count": null,
   "metadata": {
    "collapsed": true
   },
   "outputs": [],
   "source": [
    "@decorate2\n",
    "@decorate1\n",
    "def hello21():\n",
    "    print(\"hello, world!\") \n",
    "hello21() # same as hello21 = decorate2(decorate1(hello21))"
   ]
  },
  {
   "cell_type": "markdown",
   "metadata": {},
   "source": [
    "###  How to pass arguments to the inner function"
   ]
  },
  {
   "cell_type": "code",
   "execution_count": null,
   "metadata": {},
   "outputs": [],
   "source": [
    "#adapted from Fluent Python\n",
    "import functools\n",
    "def args_to_string(*args,**kw):\n",
    "    arg_str = ()\n",
    "    if args:\n",
    "        arg_str += (','.join(str(arg) for arg in args)),\n",
    "    if kw:\n",
    "        arg_str += (', '.join(('{0}={1}'.format(k,v) for k,v in kw.items()))),\n",
    "    return ','.join(a for a in arg_str)\n",
    "\n",
    "import time\n",
    "def time_this(func):\n",
    "    def decorated(*args,**kw):\n",
    "        t0 = time.perf_counter()\n",
    "        result = func(*args,**kw)\n",
    "        t1 = time.perf_counter()\n",
    "        name = func.__name__\n",
    "        arg_str = args_to_string(*args,**kw)\n",
    "        #print('{0}({1}): [{2}]'.format(name, arg_str,t1-t0))\n",
    "        #print('{}({}): [{}]'.format(name, arg_str,t1-t0))\n",
    "        print('%s(%s): [%0.8f s]' % (name, arg_str, t1-t0))\n",
    "        return result\n",
    "    return decorated\n",
    "\n",
    "@time_this\n",
    "def wait(seconds):\n",
    "    time.sleep(seconds)\n",
    "\n",
    "@functools.lru_cache() # <-- note () # parametrized decorators\n",
    "@time_this\n",
    "def factorial(n):\n",
    "    return 1 if n < 2 else n*factorial(n-1)\n",
    "\n",
    "@time_this\n",
    "def sum(a,b):\n",
    "    return a+b\n",
    "\n",
    "@time_this\n",
    "def dummy(*args, **kw):\n",
    "    a = args\n",
    "    b = kw\n",
    "\n",
    "wait(0.3)\n",
    "factorial(10)\n",
    "sum(4,5)\n",
    "dummy('pos', 'second', a='a', b='b')"
   ]
  },
  {
   "cell_type": "code",
   "execution_count": null,
   "metadata": {},
   "outputs": [],
   "source": [
    "factorial(10)"
   ]
  },
  {
   "cell_type": "code",
   "execution_count": null,
   "metadata": {
    "collapsed": true
   },
   "outputs": [],
   "source": [
    "import time\n",
    "def parametrized_time_this(check=True):\n",
    "    def decorator(func):\n",
    "        if not check:\n",
    "            return func\n",
    "        def decorated(*args,**kw):\n",
    "            t0 = time.perf_counter()\n",
    "            result = func(*args,**kw)\n",
    "            t1 = time.perf_counter()\n",
    "            name = func.__name__\n",
    "            arg_str = args_to_string(*args,**kw)\n",
    "            print('%s(%s): [%0.8f s]' % (name, arg_str, t1-t0))\n",
    "            return result\n",
    "        return decorated\n",
    "    return decorator # <-- returns the actual decorator\n",
    "    \n",
    "@parametrized_time_this(True)\n",
    "def wait(seconds):\n",
    "    print('going to sleep for', seconds,'seconds')\n",
    "    time.sleep(seconds)\n",
    "    print('woke up!')\n",
    "\n",
    "wait(0.4)"
   ]
  },
  {
   "cell_type": "markdown",
   "metadata": {},
   "source": [
    "### Decorators as function objects"
   ]
  },
  {
   "cell_type": "code",
   "execution_count": null,
   "metadata": {
    "collapsed": true
   },
   "outputs": [],
   "source": [
    "import time\n",
    "class TimeThis():\n",
    "    def __init__(self, func):           # <--\n",
    "        self._func = func               # <--\n",
    "        \n",
    "    def __call__(self, *args, **kw):\n",
    "        t0 = time.perf_counter()\n",
    "        result = self._func(*args,**kw) # <--\n",
    "        t1 = time.perf_counter()\n",
    "        name = self._func.__name__      # <--\n",
    "        arg_str = args_to_string(*args,**kw)\n",
    "        print('%s(%s): [%0.8f s]' % (name, arg_str, t1-t0))\n",
    "        return result\n",
    "\n",
    "@TimeThis\n",
    "def wait(seconds):\n",
    "    print('going to sleep for', seconds,'seconds')\n",
    "    time.sleep(seconds)\n",
    "    print('woke up!')\n",
    "\n",
    "wait(0.4)"
   ]
  },
  {
   "cell_type": "code",
   "execution_count": null,
   "metadata": {
    "collapsed": true
   },
   "outputs": [],
   "source": [
    "class ParametrizedTimeThis():\n",
    "    def __init__(self, check=True):\n",
    "        self.check = check\n",
    "    def __call__(self,func):\n",
    "        if self.check:\n",
    "            #return TimeThis(func)\n",
    "            @TimeThis\n",
    "            def wrapper(*args,**kwargs):\n",
    "                return func(*args,**kwargs)\n",
    "            return wrapper\n",
    "        return func\n",
    "        \n",
    "@ParametrizedTimeThis(True)\n",
    "def wait(seconds):\n",
    "    print('going to sleep for', seconds,'seconds')\n",
    "    time.sleep(seconds)\n",
    "    print('woke up!')\n",
    "\n",
    "wait(0.4)"
   ]
  },
  {
   "cell_type": "code",
   "execution_count": null,
   "metadata": {
    "collapsed": true
   },
   "outputs": [],
   "source": [
    "PTT = ParametrizedTimeThis(True)\n",
    "\n",
    "@PTT\n",
    "def dummy(*args,**kw):\n",
    "    pass\n",
    "\n",
    "dummy(0.4)"
   ]
  },
  {
   "cell_type": "code",
   "execution_count": null,
   "metadata": {},
   "outputs": [],
   "source": []
  }
 ],
 "metadata": {
  "kernelspec": {
   "display_name": "Python 3",
   "language": "python",
   "name": "python3"
  },
  "language_info": {
   "codemirror_mode": {
    "name": "ipython",
    "version": 3
   },
   "file_extension": ".py",
   "mimetype": "text/x-python",
   "name": "python",
   "nbconvert_exporter": "python",
   "pygments_lexer": "ipython3",
   "version": "3.7.3"
  }
 },
 "nbformat": 4,
 "nbformat_minor": 2
}
