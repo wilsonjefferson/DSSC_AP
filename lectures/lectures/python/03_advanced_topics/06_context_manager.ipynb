{
 "cells": [
  {
   "cell_type": "markdown",
   "metadata": {},
   "source": [
    "## Context manager"
   ]
  },
  {
   "cell_type": "code",
   "execution_count": null,
   "metadata": {},
   "outputs": [],
   "source": [
    "with open(\"new_file.txt\",'w') as f:\n",
    "    for i in range(10):\n",
    "        print(i,file=f)\n",
    "        #f.write(str(i)+'\\n')\n"
   ]
  },
  {
   "cell_type": "code",
   "execution_count": null,
   "metadata": {},
   "outputs": [],
   "source": [
    "f.closed"
   ]
  },
  {
   "cell_type": "code",
   "execution_count": null,
   "metadata": {},
   "outputs": [],
   "source": [
    "i"
   ]
  },
  {
   "cell_type": "code",
   "execution_count": null,
   "metadata": {},
   "outputs": [],
   "source": [
    "a=[]\n",
    "with open(\"new_file.txt\",'r') as f:\n",
    "    for i in f:\n",
    "        a.append(int(i))            \n",
    "a"
   ]
  },
  {
   "cell_type": "code",
   "execution_count": null,
   "metadata": {},
   "outputs": [],
   "source": [
    "with open('new_file.txt') as f:\n",
    "    a = [int(i) for i in f]\n",
    "a"
   ]
  },
  {
   "cell_type": "code",
   "execution_count": null,
   "metadata": {},
   "outputs": [],
   "source": [
    "# adapted from Fluent Python\n",
    "class LookingGlass:\n",
    "    def __enter__(self): # no other arguments\n",
    "        print(\"__enter__\")\n",
    "        import sys\n",
    "        self.original_write = sys.stdout.write\n",
    "        sys.stdout.write = self.reverse_write\n",
    "    \n",
    "    def reverse_write(self,text):\n",
    "        self.original_write(text[::-1])\n",
    "    \n",
    "    def __exit__(self, exc_type, exc_value, traceback):\n",
    "        import sys\n",
    "        sys.stdout.write = self.original_write # restore original\n",
    "        # handling of exception, if any\n",
    "        print(\"__exit__\")\n",
    "        return True # everything has been managed\n",
    "    \n",
    "\n",
    "with LookingGlass() as wtf:\n",
    "    print(\"What is going on?\")\n",
    "    print(\"I cannot read this\")\n",
    "        \n",
    "print(\"back to work\")"
   ]
  }
 ],
 "metadata": {
  "kernelspec": {
   "display_name": "Python 3",
   "language": "python",
   "name": "python3"
  },
  "language_info": {
   "codemirror_mode": {
    "name": "ipython",
    "version": 3
   },
   "file_extension": ".py",
   "mimetype": "text/x-python",
   "name": "python",
   "nbconvert_exporter": "python",
   "pygments_lexer": "ipython3",
   "version": "3.7.3"
  }
 },
 "nbformat": 4,
 "nbformat_minor": 2
}
