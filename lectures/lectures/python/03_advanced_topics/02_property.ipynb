{
 "cells": [
  {
   "cell_type": "markdown",
   "metadata": {},
   "source": [
    "##  Property\n",
    "- make an attribute **constant** (read only)\n",
    "- perform specific actions (e.g., error checking, pre/post-conditions) when an attribute is **set** "
   ]
  },
  {
   "cell_type": "markdown",
   "metadata": {},
   "source": [
    "###  const"
   ]
  },
  {
   "cell_type": "code",
   "execution_count": null,
   "metadata": {},
   "outputs": [],
   "source": [
    "class Point():\n",
    "    def __init__(self, x,y):\n",
    "        self.x = x\n",
    "        self.y = y\n",
    "\n",
    "    # other methods are omitted\n",
    "\n",
    "def use_point(p):\n",
    "    # complicated stuff\n",
    "    p.x = 0 # bug, I would like to have p.x, p.y const\n",
    "\n",
    "p = Point(3,4)\n",
    "\n",
    "use_point(p)\n",
    "\n",
    "print(p.x, p.y)\n"
   ]
  },
  {
   "cell_type": "code",
   "execution_count": null,
   "metadata": {},
   "outputs": [],
   "source": [
    "class Point():\n",
    "    def __init__(self, x,y):\n",
    "        self._x = x\n",
    "        self._y = y\n",
    "        \n",
    "    @property\n",
    "    def x(self):\n",
    "        return self._x\n",
    "\n",
    "    @property\n",
    "    def y(self):\n",
    "        return self._y\n",
    "\n",
    "    # other methods are omitted\n",
    "\n",
    "def use_point(p):\n",
    "    # complicated stuff\n",
    "    p.x = 0 # I expect an error\n",
    "\n",
    "p = Point(3,4)\n",
    "\n",
    "use_point(p)\n",
    "\n",
    "print(p.x, p.y)\n"
   ]
  },
  {
   "cell_type": "markdown",
   "metadata": {},
   "source": [
    "### Perform some checks"
   ]
  },
  {
   "cell_type": "code",
   "execution_count": null,
   "metadata": {},
   "outputs": [],
   "source": [
    "class Date():\n",
    "    def __init__(self, day,month,year):\n",
    "        self._day = day\n",
    "        self._month = month\n",
    "        self._year = year\n",
    "    \n",
    "    def check_validity(self,day,month,year):\n",
    "        # should check if the date is valid\n",
    "        print('validating date...', end='')\n",
    "        # what should I do if the date is not good?\n",
    "        print('Done')\n",
    "    \n",
    "    @property\n",
    "    def day(self):\n",
    "        return self._day\n",
    "    \n",
    "    @day.setter\n",
    "    def day(self, new_day):\n",
    "        self.check_validity(new_day, self._month, self._year)\n",
    "        self._day=new_day\n",
    "\n",
    "d = Date(5,8,1986)\n",
    "\n",
    "print(d.day)\n",
    "d.day = 67"
   ]
  },
  {
   "cell_type": "code",
   "execution_count": null,
   "metadata": {},
   "outputs": [],
   "source": [
    "help(property)"
   ]
  }
 ],
 "metadata": {
  "kernelspec": {
   "display_name": "Python 3",
   "language": "python",
   "name": "python3"
  },
  "language_info": {
   "codemirror_mode": {
    "name": "ipython",
    "version": 3
   },
   "file_extension": ".py",
   "mimetype": "text/x-python",
   "name": "python",
   "nbconvert_exporter": "python",
   "pygments_lexer": "ipython3",
   "version": "3.7.3"
  }
 },
 "nbformat": 4,
 "nbformat_minor": 2
}
