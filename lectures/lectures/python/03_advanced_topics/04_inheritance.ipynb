{
 "cells": [
  {
   "cell_type": "markdown",
   "metadata": {},
   "source": [
    "##  Inheritance\n",
    " - instead of duck typing"
   ]
  },
  {
   "cell_type": "code",
   "execution_count": null,
   "metadata": {},
   "outputs": [],
   "source": [
    "class Animal:\n",
    "    def __init__(self):\n",
    "        self.age = 99\n",
    "    def speak(self):\n",
    "        print(\"unknown\")\n",
    "\n",
    "class Dog(Animal):\n",
    "    def speak(self):\n",
    "        print(\"Bau\")\n",
    "        # super().speak()\n",
    "        \n",
    "d = Dog()\n",
    "a = super(Dog,d).speak()\n",
    "d.speak()\n",
    "d.age"
   ]
  },
  {
   "cell_type": "code",
   "execution_count": null,
   "metadata": {},
   "outputs": [],
   "source": [
    "help(super)"
   ]
  },
  {
   "cell_type": "markdown",
   "metadata": {},
   "source": [
    "### Method resolution order"
   ]
  },
  {
   "cell_type": "code",
   "execution_count": null,
   "metadata": {
    "collapsed": true
   },
   "outputs": [],
   "source": [
    "class A:\n",
    "    def __init__(self):\n",
    "        self._score = 42\n",
    "        self.__find_this = 99 # kind of private\n",
    "    def foo(self):\n",
    "        print(\"A foo\")\n",
    "        \n",
    "class B(A):\n",
    "    def foo(self):\n",
    "        print(\"B foo\")\n",
    "        \n",
    "class C(A):\n",
    "    def foo(self):\n",
    "        print(\"C foo\")\n",
    "        \n",
    "class D(A):\n",
    "    def foo(self):\n",
    "        print(\"D foo\")\n",
    "        \n",
    "class E(B,C,D):\n",
    "    def foo(self):\n",
    "        print(\"E foo\")\n",
    "        print(\"_score\", self._score)\n",
    "        #print(\"__find_this\", self.__find_this)\n",
    "        print(\"__find_this\", self._A__find_this)\n",
    "        \n",
    "    def bar(self):\n",
    "        self.foo() \n",
    "        super().foo() \n",
    "        D.foo(self)   # unbound method --> you have to pass self\n",
    "        A.foo(self)\n",
    "        print(self._score)\n",
    "\n",
    "e = E()\n",
    "e.bar()\n",
    "print (E.__mro__)"
   ]
  },
  {
   "cell_type": "markdown",
   "metadata": {},
   "source": [
    "### Use `isinstance` and `issubclass`, instead of `type(x) == type(y)`"
   ]
  },
  {
   "cell_type": "code",
   "execution_count": null,
   "metadata": {
    "collapsed": true
   },
   "outputs": [],
   "source": [
    "print(isinstance(e,A))\n",
    "print(isinstance(e,dict))\n",
    "print(isinstance(B,A))\n",
    "print(issubclass(B,A))"
   ]
  },
  {
   "cell_type": "markdown",
   "metadata": {},
   "source": [
    "### Abstract classes?\n",
    "- Abstract Base Class (ABC)"
   ]
  },
  {
   "cell_type": "code",
   "execution_count": null,
   "metadata": {
    "collapsed": true
   },
   "outputs": [],
   "source": [
    "import abc\n",
    "\n",
    "\n",
    "class Animal(abc.ABC): # Python > 3.4\n",
    "    def __init__(self,age,name):\n",
    "        self.age = age\n",
    "        self.name = name\n",
    "    @abc.abstractmethod\n",
    "    def speak(self): pass\n",
    "\n",
    "a = Animal() # expect error"
   ]
  },
  {
   "cell_type": "code",
   "execution_count": null,
   "metadata": {},
   "outputs": [],
   "source": [
    "# class Animal(metaclass = abc.ABCMeta): # 2 < Python < 3.4\n",
    "\n",
    "# Python 2\n",
    "# class Animal(object):\n",
    "#     __metaclass__ = abc.ABCMeta\n",
    "\n"
   ]
  },
  {
   "cell_type": "code",
   "execution_count": null,
   "metadata": {
    "collapsed": true
   },
   "outputs": [],
   "source": [
    "class Dog(Animal):\n",
    "    def speak(self):\n",
    "        print(\"Bau\")\n",
    "d = Dog(1,\"Fido\")\n",
    "d.speak()\n",
    "print(d.age, d.name)"
   ]
  }
 ],
 "metadata": {
  "kernelspec": {
   "display_name": "Python 3",
   "language": "python",
   "name": "python3"
  },
  "language_info": {
   "codemirror_mode": {
    "name": "ipython",
    "version": 3
   },
   "file_extension": ".py",
   "mimetype": "text/x-python",
   "name": "python",
   "nbconvert_exporter": "python",
   "pygments_lexer": "ipython3",
   "version": "3.7.3"
  }
 },
 "nbformat": 4,
 "nbformat_minor": 2
}
