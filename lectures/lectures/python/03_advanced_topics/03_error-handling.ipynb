{
 "cells": [
  {
   "cell_type": "markdown",
   "metadata": {},
   "source": [
    "##  Error handling"
   ]
  },
  {
   "cell_type": "markdown",
   "metadata": {},
   "source": [
    "## Handling exceptions\n",
    "\n",
    "* handling exceptions using try, except, finally keywords\n",
    " * finally is executed no matters what\n",
    " * finally is good to release external resources\n",
    "* common exceptions are ZeroDivisionError, NameError, TypeError, ValueError, SyntaxError\n",
    "* exceptions of type AssertionError: assert keyword\n",
    "* exceptions of type Exception:  raise keyword\n",
    " \n",
    "``` python    \n",
    "try: \n",
    "    <try-body-block>    \n",
    "except <Exception-name> as <alias>: \n",
    "    <except-body-block>        \n",
    "```"
   ]
  },
  {
   "cell_type": "code",
   "execution_count": null,
   "metadata": {},
   "outputs": [],
   "source": [
    "print(\"# let's catch some common exceptions\\n\")\n",
    "to_execute = ['1/0',\\\n",
    "              '4+unknown_var',\\\n",
    "              '\"2\"+2',\\\n",
    "              \"int('s')\",\n",
    "              \"print 1\"]\n",
    "for i in to_execute:\n",
    "    try:\n",
    "        print(i)\n",
    "        eval(i)\n",
    "        print(\"I am not going to be printed\")\n",
    "    #except Exception as err:\n",
    "    #    print(type(err),\":\",err)\n",
    "    except (ZeroDivisionError,NameError,TypeError,ValueError) as err:\n",
    "        print(type(err),\":\",err)\n",
    "    except SyntaxError as err: \n",
    "        print(\"'print 1' was not caught because it causes SyntaxError\")\n",
    "        print(type(err),\":\",err)\n",
    "    finally: # should be at the end of try statement\n",
    "             # useful to make sure all resources are released\n",
    "             # even if an exception occurs\n",
    "             # even if no exception was caught\n",
    "        print(\"---last but not least, finally is executed---\\n\")"
   ]
  },
  {
   "cell_type": "markdown",
   "metadata": {},
   "source": [
    "###  Asserts"
   ]
  },
  {
   "cell_type": "code",
   "execution_count": null,
   "metadata": {},
   "outputs": [],
   "source": [
    "x = -1\n",
    "try:\n",
    "    assert x>=0, 'x is negative'\n",
    "except AssertionError as err: \n",
    "    print(err)"
   ]
  },
  {
   "cell_type": "code",
   "execution_count": null,
   "metadata": {},
   "outputs": [],
   "source": [
    "def check_date_validity(day,month,year):\n",
    "    if day<=0:\n",
    "        raise ValueError(\"day cannot be negative\")\n",
    "\n",
    "check_date_validity(-1,1,1)"
   ]
  },
  {
   "cell_type": "code",
   "execution_count": null,
   "metadata": {},
   "outputs": [],
   "source": [
    "try: \n",
    "    raise Exception(1,[2],{'3':3}) # an exception can be raised\n",
    "                                   # with any argument\n",
    "except Exception as err:\n",
    "    print(type(err))\n",
    "    print(err)      # print its arguments\n",
    "    a,b,c = err.args    \n",
    "    print(a,b,c)\n",
    "    try: \n",
    "        a,b,c = err\n",
    "    except TypeError as err: \n",
    "        print(err)"
   ]
  }
 ],
 "metadata": {
  "kernelspec": {
   "display_name": "Python 3",
   "language": "python",
   "name": "python3"
  },
  "language_info": {
   "codemirror_mode": {
    "name": "ipython",
    "version": 3
   },
   "file_extension": ".py",
   "mimetype": "text/x-python",
   "name": "python",
   "nbconvert_exporter": "python",
   "pygments_lexer": "ipython3",
   "version": "3.7.3"
  }
 },
 "nbformat": 4,
 "nbformat_minor": 2
}
