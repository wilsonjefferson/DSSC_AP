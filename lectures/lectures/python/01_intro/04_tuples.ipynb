{
 "cells": [
  {
   "cell_type": "markdown",
   "metadata": {},
   "source": [
    "## Tuples\n",
    "- immutables\n",
    "- cannot add, remove, change objects once created\n",
    "- slicing\n"
   ]
  },
  {
   "cell_type": "code",
   "execution_count": null,
   "metadata": {},
   "outputs": [],
   "source": [
    "empty_tuple = ()  # or empty_tuple = tuple()\n",
    "t = tuple(range(10))\n",
    "print(t[0::2])\n",
    "t = tuple(\"string\")\n",
    "print(t)"
   ]
  },
  {
   "cell_type": "code",
   "execution_count": null,
   "metadata": {},
   "outputs": [],
   "source": [
    "t[0] = 5 # error"
   ]
  },
  {
   "cell_type": "markdown",
   "metadata": {},
   "source": [
    "### tuple packing"
   ]
  },
  {
   "cell_type": "code",
   "execution_count": null,
   "metadata": {},
   "outputs": [],
   "source": [
    "a = 'first'\n",
    "b = 'second'\n",
    "t = a,b\n",
    "print(t)"
   ]
  },
  {
   "cell_type": "markdown",
   "metadata": {},
   "source": [
    "### tuple unpacking"
   ]
  },
  {
   "cell_type": "code",
   "execution_count": null,
   "metadata": {},
   "outputs": [],
   "source": [
    "t = a,b\n",
    "f,s = t\n",
    "print(\"f:\", f, \"\\ns:\", s)\n",
    "\n",
    "\n",
    "\n",
    "colors = ('black', 'white')\n",
    "players = ('me', 'you','other')\n",
    "\n",
    "tournament=[(p,c) for p in players for c in colors ]\n"
   ]
  },
  {
   "cell_type": "markdown",
   "metadata": {},
   "source": [
    "### how to ignore elements when unpacking\n"
   ]
  },
  {
   "cell_type": "code",
   "execution_count": null,
   "metadata": {},
   "outputs": [],
   "source": [
    "t = ('important', 'nothing', 'very important', 'forget it')\n",
    "imp,_,vip,_ = t\n",
    "print('imp:', imp, '\\nvip:', vip)"
   ]
  },
  {
   "cell_type": "markdown",
   "metadata": {},
   "source": [
    "### how to swap two objects"
   ]
  },
  {
   "cell_type": "code",
   "execution_count": null,
   "metadata": {},
   "outputs": [],
   "source": [
    "a = 1\n",
    "b = 2\n",
    "print(a,b)\n",
    "\n",
    "a,b = b,a\n",
    "\n",
    "print(a,b)"
   ]
  },
  {
   "cell_type": "markdown",
   "metadata": {},
   "source": [
    "### What immutability means?\n",
    "Immutability refers to the stored **references** (aka `id`). "
   ]
  },
  {
   "cell_type": "code",
   "execution_count": null,
   "metadata": {},
   "outputs": [],
   "source": [
    "t = (1,2,[3,4])\n",
    "print(id(t[-1]))\n",
    "print(t)\n",
    "\n",
    "t[-1].append(5)\n",
    "print(id(t[-1]))\n",
    "print(t)"
   ]
  },
  {
   "cell_type": "code",
   "execution_count": null,
   "metadata": {},
   "outputs": [],
   "source": [
    "# this calls for an error\n",
    "t[-1] = [77]"
   ]
  },
  {
   "cell_type": "markdown",
   "metadata": {},
   "source": [
    "### subtle bug"
   ]
  },
  {
   "cell_type": "code",
   "execution_count": null,
   "metadata": {},
   "outputs": [],
   "source": [
    "t = (1,2, [3,4])\n",
    "print(t)\n",
    "t[-1] += [5,6]"
   ]
  },
  {
   "cell_type": "code",
   "execution_count": null,
   "metadata": {},
   "outputs": [],
   "source": [
    "print(t)"
   ]
  },
  {
   "cell_type": "markdown",
   "metadata": {},
   "source": [
    "### Take home message: do not mix immutables with mutables objects"
   ]
  },
  {
   "cell_type": "markdown",
   "metadata": {},
   "source": [
    "### Iterability"
   ]
  },
  {
   "cell_type": "code",
   "execution_count": null,
   "metadata": {},
   "outputs": [],
   "source": [
    "for x in t:\n",
    "    print(x)"
   ]
  },
  {
   "cell_type": "markdown",
   "metadata": {},
   "source": [
    "## named tuples\n",
    "* named tuples are tuples who have an identifiers and attributes\n",
    " * need to import from the module collections"
   ]
  },
  {
   "cell_type": "code",
   "execution_count": null,
   "metadata": {},
   "outputs": [],
   "source": [
    "from collections import namedtuple\n",
    "contact = namedtuple(\"Contact\", \"Name Surname Email Phone\")\n",
    "myContact = contact(\"alberto\",\"sartori\",\"as@mail.it\",\"33344448888\")\n",
    "\n",
    "name,surname,email,phone=myContact\n",
    "print(myContact,\"is a\",type(myContact))\n",
    "print(name,surname,email,phone)"
   ]
  },
  {
   "cell_type": "code",
   "execution_count": null,
   "metadata": {},
   "outputs": [],
   "source": [
    "wrong = contact(\"alberto\",\"sartori\",\"as@mail.it\",\"33344448888\", \"wrong arg\") # error"
   ]
  },
  {
   "cell_type": "code",
   "execution_count": null,
   "metadata": {},
   "outputs": [],
   "source": [
    "wrong = contact(\"too few\") # error"
   ]
  },
  {
   "cell_type": "markdown",
   "metadata": {},
   "source": [
    "### tuples vs lists\n",
    "- tuples are faster\n",
    "- tuples occupy less memory"
   ]
  },
  {
   "cell_type": "code",
   "execution_count": null,
   "metadata": {},
   "outputs": [],
   "source": [
    "%timeit l = [0,1,2,3,4,5,6,7,8,9]\n",
    "%timeit t = (0,1,2,3,4,5,6,7,8,9)"
   ]
  }
 ],
 "metadata": {
  "kernelspec": {
   "display_name": "Python 3",
   "language": "python",
   "name": "python3"
  },
  "language_info": {
   "codemirror_mode": {
    "name": "ipython",
    "version": 3
   },
   "file_extension": ".py",
   "mimetype": "text/x-python",
   "name": "python",
   "nbconvert_exporter": "python",
   "pygments_lexer": "ipython3",
   "version": "3.7.3"
  }
 },
 "nbformat": 4,
 "nbformat_minor": 2
}
