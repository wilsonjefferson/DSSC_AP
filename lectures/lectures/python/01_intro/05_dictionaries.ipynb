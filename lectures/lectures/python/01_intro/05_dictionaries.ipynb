{
 "cells": [
  {
   "cell_type": "markdown",
   "metadata": {},
   "source": [
    "## Dictionaries (hash tables) aka `dict`s\n",
    " - **unordered** set of pairs `key:value`\n",
    " - elements are accessed by `key` and not by offset (like lists and tuples)\n",
    " - `key` must be **hashable** (aka immutable) (e.g., boolean, integer, float, tuple, string, **not list**)\n",
    " - are mutable, so you can add, delete and change their `key:value` elements\n",
    " - highly optimized"
   ]
  },
  {
   "cell_type": "code",
   "execution_count": null,
   "metadata": {},
   "outputs": [],
   "source": [
    "empty_dict = {} # or empty_dict = dict()\n",
    "print(type(empty_dict))"
   ]
  },
  {
   "cell_type": "code",
   "execution_count": null,
   "metadata": {},
   "outputs": [],
   "source": [
    "age_dict = {\"Alberto\":32,\n",
    "            \"Antonella\":21,\n",
    "            \"Stefano\": 42,\n",
    "            \"Family\": [4,5,32,37]}\n",
    "print(age_dict)"
   ]
  },
  {
   "cell_type": "markdown",
   "metadata": {},
   "source": [
    "### can be constructed in many ways\n",
    "- from list of tuples\n",
    "- from tuples of 2-element lists\n",
    "- dictionaries comprehensions"
   ]
  },
  {
   "cell_type": "code",
   "execution_count": null,
   "metadata": {},
   "outputs": [],
   "source": [
    "lot = [(\"Alberto\", 32), (\"Antonella\", 21), (\"Stefano\",42),\n",
    "     (\"Family\",[4,5,32,37])]\n",
    "age_dict = dict(lot)\n",
    "print(age_dict)"
   ]
  },
  {
   "cell_type": "code",
   "execution_count": null,
   "metadata": {},
   "outputs": [],
   "source": [
    "tof = ([\"Alberto\", 32], [\"Antonella\", 21], [\"Stefano\",42],\n",
    "       [\"Family\",[4,5,32,37]])\n",
    "age_dict = dict(tof)\n",
    "print(age_dict)"
   ]
  },
  {
   "cell_type": "code",
   "execution_count": null,
   "metadata": {},
   "outputs": [],
   "source": [
    "names = [\"Alberto\", \"Antonella\", \"Stefano\", \"Family\"]\n",
    "ages = [32,21,42,[4,5,32,37]]\n",
    "age_dict = {k:v for k,v in zip(names,ages)}\n",
    "print(age_dict)"
   ]
  },
  {
   "cell_type": "markdown",
   "metadata": {},
   "source": [
    "### Retrieve an element by `key`\n"
   ]
  },
  {
   "cell_type": "code",
   "execution_count": null,
   "metadata": {},
   "outputs": [],
   "source": [
    "print(\"age of Alberto\", age_dict['Alberto'])\n",
    "age_dict['Alberto'] += 1\n",
    "print(\"age of Alberto\", age_dict['Alberto'])"
   ]
  },
  {
   "cell_type": "code",
   "execution_count": null,
   "metadata": {},
   "outputs": [],
   "source": [
    "print(age_dict[\"not in dict\"]) # error"
   ]
  },
  {
   "cell_type": "markdown",
   "metadata": {},
   "source": [
    "### better use `get` if a key can be not present"
   ]
  },
  {
   "cell_type": "code",
   "execution_count": null,
   "metadata": {},
   "outputs": [],
   "source": [
    "print(age_dict.get(\"not in dict\", -1))"
   ]
  },
  {
   "cell_type": "markdown",
   "metadata": {},
   "source": [
    "### can add new keys with the `[ ]` operator"
   ]
  },
  {
   "cell_type": "code",
   "execution_count": null,
   "metadata": {},
   "outputs": [],
   "source": [
    "age_dict[\"New key\"] = 55"
   ]
  },
  {
   "cell_type": "markdown",
   "metadata": {},
   "source": [
    "### check if a key is (is not in dict)\n"
   ]
  },
  {
   "cell_type": "code",
   "execution_count": null,
   "metadata": {},
   "outputs": [],
   "source": [
    "print(\"Alberto\" in age_dict)\n",
    "print(\"Unknown\" in age_dict)\n",
    "print(\"Unknown\" not in age_dict)"
   ]
  },
  {
   "cell_type": "markdown",
   "metadata": {},
   "source": [
    "### quick look at the methods"
   ]
  },
  {
   "cell_type": "code",
   "execution_count": null,
   "metadata": {},
   "outputs": [],
   "source": [
    "print(dir(age_dict))"
   ]
  },
  {
   "cell_type": "markdown",
   "metadata": {},
   "source": [
    "### Iterability"
   ]
  },
  {
   "cell_type": "code",
   "execution_count": null,
   "metadata": {},
   "outputs": [],
   "source": [
    "for k in age_dict:\n",
    "    print(k, age_dict[k])"
   ]
  },
  {
   "cell_type": "markdown",
   "metadata": {},
   "source": [
    "#### loop over keys and/or values\n"
   ]
  },
  {
   "cell_type": "code",
   "execution_count": null,
   "metadata": {},
   "outputs": [],
   "source": [
    "for k in age_dict.keys():\n",
    "    print (k)\n",
    "    \n",
    "for v in age_dict.values():\n",
    "    print (v)\n",
    "    \n",
    "for it in age_dict.items():\n",
    "    print(it)\n",
    "    \n",
    "for k,v in age_dict.items():\n",
    "    print(k,v)"
   ]
  },
  {
   "cell_type": "markdown",
   "metadata": {},
   "source": [
    "### delete with `del` statement"
   ]
  },
  {
   "cell_type": "code",
   "execution_count": null,
   "metadata": {},
   "outputs": [],
   "source": [
    "del age_dict[\"Alberto\"]\n",
    "print(age_dict)"
   ]
  },
  {
   "cell_type": "markdown",
   "metadata": {},
   "source": [
    "### `OrderedDict`s preserve order of insertion allowing iteration in a predictable order"
   ]
  },
  {
   "cell_type": "code",
   "execution_count": null,
   "metadata": {},
   "outputs": [],
   "source": [
    "from collections import OrderedDict\n",
    "ordered_dict = OrderedDict(zip(names,ages))\n",
    "print(ordered_dict)"
   ]
  }
 ],
 "metadata": {
  "kernelspec": {
   "display_name": "Python 3",
   "language": "python",
   "name": "python3"
  },
  "language_info": {
   "codemirror_mode": {
    "name": "ipython",
    "version": 3
   },
   "file_extension": ".py",
   "mimetype": "text/x-python",
   "name": "python",
   "nbconvert_exporter": "python",
   "pygments_lexer": "ipython3",
   "version": "3.7.3"
  }
 },
 "nbformat": 4,
 "nbformat_minor": 2
}
