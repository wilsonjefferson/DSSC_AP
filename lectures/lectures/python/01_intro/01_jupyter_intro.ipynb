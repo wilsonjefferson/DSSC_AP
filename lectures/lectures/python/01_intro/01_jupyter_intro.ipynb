{
 "cells": [
  {
   "cell_type": "markdown",
   "metadata": {},
   "source": [
    "## Jupyter (formerly ipython) notebook intro\n",
    "* this document is a jupyter notebook\n",
    "* flexible tool to create readable documents that embeds:\n",
    " * code\n",
    " * images\n",
    " * comments\n",
    " * formulas\n",
    " * plots\n",
    "* jupyter supports notebooks form many different languages (including python, julia and R) \n",
    "* each document runs a computational engine that executes the code written in the cells\n"
   ]
  },
  {
   "cell_type": "markdown",
   "metadata": {},
   "source": [
    "Built-in magic commands in jupyter\n",
    "\n",
    "    jupyter embeds special commands (called magics) that enables to run different kind of code.\n",
    "        magic inline commands start with \"%\"\n",
    "        magic multiple line commands start with \"%%\"\n",
    "        you can list magic commands running %lsmagic\n",
    "        you can pop-up the magic command documentation (if any) adding \"?\" after the command with no space\n",
    "    few magics you might find useful:\n",
    "        ! runs inline shell commands\n",
    "        %%bash to run bash program (same syntax for other languages)\n",
    "        embed latex inline between $$\n",
    "        %%latex to render a latex block\n",
    "        ...\n",
    "        %reset to remove all names defined by the user\n"
   ]
  },
  {
   "cell_type": "code",
   "execution_count": null,
   "metadata": {
    "collapsed": true
   },
   "outputs": [],
   "source": [
    "%lsmagic"
   ]
  },
  {
   "cell_type": "code",
   "execution_count": null,
   "metadata": {
    "collapsed": true
   },
   "outputs": [],
   "source": [
    "%%bash \n",
    "for i in $(ls)\n",
    "do \n",
    "    echo $i\n",
    "done"
   ]
  },
  {
   "cell_type": "code",
   "execution_count": null,
   "metadata": {
    "collapsed": true
   },
   "outputs": [],
   "source": [
    "!ls | grep ipy"
   ]
  },
  {
   "cell_type": "markdown",
   "metadata": {},
   "source": [
    "## Python interpreter\n",
    "* Compile source to bytecode then execute it on a virtual machine \n",
    "* Survives any execution error, even in case of syntax errors\n",
    " * in python also indentation is syntax\n",
    "* expression is code that returns an object \n",
    "* if no error, the prompt (\">>>\") automatically: \n",
    " * prints the result on screen\n",
    " * assigns the result to \"_\""
   ]
  },
  {
   "cell_type": "code",
   "execution_count": null,
   "metadata": {
    "collapsed": true
   },
   "outputs": [],
   "source": [
    "# expression that returns something\n",
    "12345"
   ]
  },
  {
   "cell_type": "code",
   "execution_count": null,
   "metadata": {
    "collapsed": true
   },
   "outputs": [],
   "source": [
    "# that something was assigned to \"_\"\n",
    "_"
   ]
  },
  {
   "cell_type": "code",
   "execution_count": null,
   "metadata": {
    "collapsed": true
   },
   "outputs": [],
   "source": [
    "# Error example: division by 0\n",
    "1/0"
   ]
  },
  {
   "cell_type": "code",
   "execution_count": null,
   "metadata": {
    "collapsed": true
   },
   "outputs": [],
   "source": [
    "print = 7"
   ]
  },
  {
   "cell_type": "code",
   "execution_count": null,
   "metadata": {},
   "outputs": [],
   "source": [
    "print(\"hello world\")"
   ]
  },
  {
   "cell_type": "code",
   "execution_count": null,
   "metadata": {
    "collapsed": true
   },
   "outputs": [],
   "source": [
    "%reset\n",
    "print(\"hello world\")"
   ]
  }
 ],
 "metadata": {
  "kernelspec": {
   "display_name": "Python 3",
   "language": "python",
   "name": "python3"
  },
  "language_info": {
   "codemirror_mode": {
    "name": "ipython",
    "version": 3
   },
   "file_extension": ".py",
   "mimetype": "text/x-python",
   "name": "python",
   "nbconvert_exporter": "python",
   "pygments_lexer": "ipython3",
   "version": "3.7.3"
  }
 },
 "nbformat": 4,
 "nbformat_minor": 2
}
